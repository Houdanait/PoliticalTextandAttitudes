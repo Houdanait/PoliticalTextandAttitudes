{
 "cells": [
  {
   "cell_type": "code",
   "execution_count": null,
   "metadata": {},
   "outputs": [],
   "source": [
    "# Get list of annotated utterances\n",
    " - This should be examples of \n",
    "# Match them to speakers\n",
    "\n",
    "\n",
    "# Note that we have a sampling bias problem--we've created a dataset that is biased becaues it only includes samples where there is a potential pragmatic marker.\n",
    "\n",
    "# This means that speakers hwo don't use them are underrepresented in the dataset.\n",
    "\n",
    "# To match this, we need to sample the same % of utterances from non-PPrM statements.\n",
    "\n",
    "# i.e. we've sampled #2000 statements with PPrMs, which represents 5% of statements with PPrMsb"
   ]
  },
  {
   "cell_type": "code",
   "execution_count": 2,
   "metadata": {},
   "outputs": [],
   "source": [
    "from transformers import BertTokenizer, BertForTokenClassification\n",
    "\n",
    "# Replace these with the actual directory paths where you saved your model and tokenizer\n",
    "model_directory = 'data/models/model_epochs-6_batch-8_2024-06-05_00-15-10'\n",
    "tokenizer_directory = 'data//models/tokenizer_epochs-6_batch-8_2024-06-05_00-15-10'\n",
    "\n",
    "# Load the tokenizer\n",
    "tokenizer = BertTokenizer.from_pretrained(tokenizer_directory)\n",
    "\n",
    "# Load the model\n",
    "model = BertForTokenClassification.from_pretrained(model_directory)\n",
    "\n",
    "label_map = {0: \"none\", 1: \"hedge\", 2: \"authority\"}"
   ]
  },
  {
   "cell_type": "code",
   "execution_count": 4,
   "metadata": {},
   "outputs": [
    {
     "name": "stdout",
     "output_type": "stream",
     "text": [
      "[CLS]: none\n",
      "i: none\n",
      "': authority\n",
      "m: none\n",
      "not: none\n",
      "sure: none\n",
      "if: none\n",
      "i: none\n",
      "can: none\n",
      "make: none\n",
      "it: none\n",
      "to: none\n",
      "the: none\n",
      "party: none\n",
      "[SEP]: none\n"
     ]
    }
   ],
   "source": [
    "def classify_tokens(input_text, model, tokenizer, label_map):\n",
    "    # Tokenize the input text\n",
    "    inputs = tokenizer(input_text, return_tensors=\"pt\", truncation=True, max_length=512, padding=\"max_length\")\n",
    "\n",
    "    # Identify the pad token index\n",
    "    pad_token_id = tokenizer.pad_token_id\n",
    "\n",
    "    # Move tensors to the same device as model\n",
    "    input_ids = inputs['input_ids'].to(model.device)\n",
    "    attention_mask = inputs['attention_mask'].to(model.device)\n",
    "\n",
    "    # Predict\n",
    "    model.eval()  # Set the model to evaluation mode\n",
    "    with torch.no_grad():\n",
    "        outputs = model(input_ids, attention_mask=attention_mask)\n",
    "    \n",
    "    # Get the predictions\n",
    "    logits = outputs.logits\n",
    "    predictions = torch.argmax(logits, dim=-1)\n",
    "\n",
    "    # Convert predictions to label names, ignoring padding tokens\n",
    "    predicted_labels = []\n",
    "    tokens = tokenizer.convert_ids_to_tokens(input_ids[0])\n",
    "    for token, pred_label_id in zip(tokens, predictions[0].cpu().numpy()):\n",
    "        if input_ids[0][tokens.index(token)] != pad_token_id:\n",
    "            predicted_labels.append((token, label_map[pred_label_id]))\n",
    "\n",
    "    return predicted_labels\n",
    "\n",
    "# Example usage\n",
    "input_text = \"I'm not sure if I can make it to the party\"\n",
    "label_map = {0: \"none\", 1: \"hedge\", 2: \"authority\"}  # This should match the label_map used during training\n",
    "results = classify_tokens(input_text, model, tokenizer, label_map)\n",
    "\n",
    "for token, label in results:\n",
    "    print(f\"{token}: {label}\")\n"
   ]
  },
  {
   "cell_type": "code",
   "execution_count": 2,
   "metadata": {},
   "outputs": [
    {
     "name": "stdout",
     "output_type": "stream",
     "text": [
      "{'transcript_id': 'CNN-283391', 'matched_terms': {'all': ['none'], 'clear': ['none'], 'know': ['hedge', 'none'], 'sure': ['hedge', 'none'], 'could': ['hedge', 'none'], 'would': ['hedge', 'none'], 'around': ['none'], 'feel': ['hedge', 'none'], 'view': ['none'], 'thing': ['none']}, 'previous_statement': \"He managed to stay very calm as he filmed his journey out of that town, while embers fell all around him. CNN's Chad Myers has this story.\", 'statement': \"Michel Chamberland lives in the Beacon Hill neighborhood of Fort McMurray, an area now more than three-quarters destroyed. He works the overnight shift at an oil company. So he was asleep Tuesday afternoon when he got a call from a friend to get out. He grabbed a few things and left in his truck, filming from the front and back cameras. He let his office <KNOW> he wouldn't be in that night. At several points, you can see embers from the fire had landed across the street, lighting new fires near the houses. As he drove on, embers started falling on his truck and on the vehicles of those <AROUND> him. He said he <<COULD>> <<FEEL>> the pressure to try to get out of there and the <VIEW> looking backward was even more hellish. Finally, he sees the smoke clearing ahead of him and calls a friend.\"}\n",
      "{'transcript_id': 'CNN-135423', 'matched_terms': {'think': ['hedge'], 'well': ['none', 'hedge']}, 'previous_statement': \"The decisions that he makes are clearly priorities, from his perspective, but what's the biggest complaint that you have about the budget blueprint he put forward today?\", 'statement': \"<WELL>, I <<<THINK>>> it is illustrated by this memory, and it's one that troubles me still. Secretary of State Hillary Clinton was in China recently on rhetorical, bended knee, pleading with the Chinese to continue to buy our debt. The federal government is constructing a debt crisis that is going to be like the mortgage crisis in the not-too-distant future. This is a house of cards, Wolf, that if we don't slow it down and control of it, it's going to be a major problem. And to have President Obama and Congress consider taking the deficit up to $1.75 trillion, the largest amount as a percent of GDP, I <<<THINK>>>, since World War II, and then say they're going to cut it in half after doubling it, that worries me greatly. And we're on an unsustainable path.\"}\n",
      "{'transcript_id': 'CNN-79541', 'matched_terms': {'sure': ['hedge', 'none'], 'take': ['none'], 'well': ['none']}, 'previous_statement': \"Yes. People just jump up and say I can't wait any longer I've got to go do my business.\", 'statement': '<WELL> I make <<<SURE>>> -- I have a 4-year-old, I make <<<SURE>>> I <TAKE> her to the bathroom before the fellows are getting ready to push back.'}\n",
      "{'transcript_id': 'CNN-222930', 'matched_terms': {'all': ['none'], 'wrong': ['none'], 'take': ['none']}, 'previous_statement': 'You know, bread and wine up here, help yourself.', 'statement': \"Help yourself, I'm out. <ALL> right. We're going to <TAKE> a break. Coming up next on NEW DAY, the latest on the Southwest Airlines flight that landed at the <WRONG> Missouri airport. How did the pilots make such a dangerous mistake? We're going to <TAKE> a look inside a flight simulator to help us understand this.\"}\n",
      "{'transcript_id': 'CNN-335677', 'matched_terms': {'never': ['hedge'], 'seem': ['hedge']}, 'previous_statement': \"And I think Trump is thinking that he can improve relations, that he can sit down and talk with leaders like North Korea, maybe where others haven't, right. So this is a guy who thinks he's a consummate negotiator. He wants to keep lines of communication open. And the fact that, you know -- besides the fact that it was leaked that he got advice otherwise, presidents don't always follow their national security team's advice.\", 'statement': 'Having said that, the former CIA director, John Brennan has an idea of why Donald Trump <NEVER> seems to confront Vladimir Putin.'}\n",
      "{'transcript_id': 'CNN-35005', 'matched_terms': {'all': ['none', 'authority'], 'every': ['none'], 'would': ['hedge', 'authority'], 'about': ['none'], 'tend': ['none']}, 'previous_statement': \"I don't think she helped Chandra Levy the way she did it. Marc Sandalow, Jake Tapper, good of you to come in and battle two media guys about the media. Thank you very much. Tucker Carlson will come back and tell you who is good and who is bad in the media in our closing comments.\", 'statement': \"Bill, almost everybody this saga is striking a phony pose but I <WOULD> say the phoniest of <ALL> poses is being struck by Chandra Levy's parents who are pretending to be outraged because some flak talked <ABOUT> their daughter's sex life, which as was pointed out on the program a few minutes ago, they are the ones who have been flogging and talking <ABOUT> it, bringing up and making circles in the news.\"}\n",
      "{'transcript_id': 'CNN-311612', 'matched_terms': {'fairly': ['none', 'hedge']}, 'previous_statement': 'One of those things. Knee-jerk.', 'statement': 'In this modern era, the Dow down a hundred points is not what it used to be. It was <FAIRLY> precipitous, then we had a sharp rebound.'}\n",
      "{'transcript_id': 'CNN-412394', 'matched_terms': {'certainly': ['none', 'authority'], 'all': ['none'], 'every': ['none'], 'always': ['none', 'authority'], 'obviously': ['none', 'authority'], 'know': ['none', 'authority'], 'obvious': ['none'], 'essential': ['none'], 'apparent': ['none'], 'may': ['hedge'], 'might': ['hedge'], 'about': ['none'], 'around': ['none'], 'maybe': ['hedge'], 'apparently': ['none', 'hedge'], 'think': ['hedge'], 'kind of': ['hedge'], 'sort of': ['hedge'], 'seem': ['hedge'], 'posit': ['none'], 'hope': ['hedge', 'none'], 'change': ['none'], 'temper': ['none'], 'certain': ['none'], 'positive': ['none'], 'well': ['none', 'hedge']}, 'previous_statement': \"It's important say over and over and over and over and over again on this day, we wish the president well and we wish him a speedy recovery but it is just a fact, it is just a fact that his behavior, the way he has conducted himself in recent days and weeks is directly contrary to the advice of his own experts.\", 'statement': \"We're <ALL> praying for the president, praying for the First Lady and any of other folks that <MAY> end up testing <POSITIVE> as <WELL> but it is also true that the president in many ways with his behavior and his rhetoric opened the door to the White House to this virus and remember the White House is both a place of business, it's a workplace and it's also a residence, right? So if you <<<THINK>>> <ABOUT> those people who come to work <EVERY> day, they were left very vulnerable because it was a president who didn't really like the look of masks. He thought mask were essentially ugly and didn't want folks <AROUND> him wearing them and so that is the <<KIND OF>> environment that was created. And listen, a virus is <ALWAYS> looking for host and so this is what ends up happening. Again thoughts and prayers go out to everyone who <MIGHT> end up being affected by this and the folks who already are. But the president <OBVIOUSLY> did himself no favors, he did his family members no favors and the people who work <AROUND> him. He's the boss of those folks and he set a real I <<<THINK>>> leadership pattern and they followed because that is what they thought that this president wanted and the same with his supporters, the same with his family members who went to that a debate and were asked to put on masks and <<APPARENTLY>> refused to put on masks because that is what those <<SORT OF>> Trump way was in terms of wearing masks. <<MAYBE>> it'll <CHANGE>, <<MAYBE>> this will be a wakeup call off for this White House and for this administration. We <CERTAINLY> <HOPE> so because you <KNOW> Americans <ALL> over you <KNOW> since March have been changing their ways, their way of life in terms of mask, I've got a mask right here and when I go on to the hallway in CNN, I'm getting my temperature checked and the idea that this White House was so <WELL> <<SORT OF>> lackadaisical in their approach to folks who were coming to work <EVERY> day. They essentially <SEEM> to <<<THINK>>> that the testing mechanism made them immune somehow and <OBVIOUSLY> we find out today sadly that that wasn't the case for the president, for the First Lady and those folks in the White House.\"}\n",
      "{'transcript_id': 'CNN-46442', 'matched_terms': {'about': ['none']}, 'previous_statement': 'None', 'statement': \"Let's bring in our Cladia Cisneros for the latest on that tragic fire in Lima. Claudia, what can you tell us <ABOUT> the latest death toll?\"}\n",
      "{'transcript_id': 'CNN-209313', 'matched_terms': {'clear': ['none'], 'completely': ['none', 'authority'], 'could': ['hedge'], 'would': ['hedge', 'none'], 'should': ['authority'], 'about': ['none'], 'think': ['hedge'], 'suggest': ['hedge', 'none'], 'question': ['none'], 'change': ['none'], 'adjust': ['none'], 'well': ['none']}, 'previous_statement': \"The reactions show that we have not come back to full local balance because when you're talking about the sustainable growth in all world regions, and I would also mean that any announcements of central bankers should not cause this dramatic fluctuations and should not actually cause those price changes. So Italy tells you how much that global economy depends on the action of central banks. And otherwise a calm and sustainable situation that obviously would not happen to that extent. So that shouldn't stop us to return back to the normal and sustainable path of development.\", 'statement': \"So, Richard, very <CLEAR> here that both Chancellor Merkel and President Putin support this move of trying to start making that transition out from the very generous money. He was speaking <ABOUT> Greece today and the selloff that we had. I posed a <QUESTION> to Ms. Merkel as <WELL> <ABOUT> whether it's time to <CHANGE> the policy of austerity and start to readjust here so we can tackle that youth unemployment in the southern half of Europe. She said very candidly we're not competitive enough just yet. The readjustment is not finished yet. And although it is extremely painful, we <SHOULD> not finish the job until it is <COMPLETELY> done which she suggests you <<COULD>> kick down, the can down the road for another few years but <WOULD> boomerang on the European Union, and she didn't <<<THINK>>> that was the correct strategy, Richard.\"}\n"
     ]
    }
   ],
   "source": [
    "import json\n",
    "import random\n",
    "\n",
    "# Read the JSON file\n",
    "with open(\"data/filtered_utterances_samples_MW_HNEB_MERGE.json\", \"r\") as file:\n",
    "    data = json.load(file)\n",
    "\n",
    "# Print out a sample of 10 statements\n",
    "sample_statements = random.sample(data, k=5)\n",
    "for statement in sample_statements:\n",
    "    print(statement)\n",
    "\n",
    "# pull in transcript"
   ]
  },
  {
   "cell_type": "code",
   "execution_count": null,
   "metadata": {},
   "outputs": [],
   "source": [
    "For each transcript, get the details of the speakers that are provided\n",
    "Ask GPT-4 to identify whether the speaker is a politician (and party), a journalist, or a member of the public"
   ]
  }
 ],
 "metadata": {
  "kernelspec": {
   "display_name": "cs224n-gpu",
   "language": "python",
   "name": "python3"
  },
  "language_info": {
   "codemirror_mode": {
    "name": "ipython",
    "version": 3
   },
   "file_extension": ".py",
   "mimetype": "text/x-python",
   "name": "python",
   "nbconvert_exporter": "python",
   "pygments_lexer": "ipython3",
   "version": "3.10.14"
  }
 },
 "nbformat": 4,
 "nbformat_minor": 2
}
