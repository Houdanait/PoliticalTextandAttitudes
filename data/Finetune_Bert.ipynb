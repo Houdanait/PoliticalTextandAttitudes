{
 "cells": [
  {
   "cell_type": "code",
   "execution_count": 11,
   "id": "bound-founder",
   "metadata": {},
   "outputs": [],
   "source": [
    "# !pip install torch\n",
    "# !pip install transformers\n",
    "# !pip install json"
   ]
  },
  {
   "cell_type": "code",
   "execution_count": 5,
   "id": "94dbd6e2-0c2d-4e29-8f05-54b4e6792359",
   "metadata": {},
   "outputs": [
    {
     "name": "stderr",
     "output_type": "stream",
     "text": [
      "Some weights of BertForTokenClassification were not initialized from the model checkpoint at bert-base-uncased and are newly initialized: ['classifier.bias', 'classifier.weight']\n",
      "You should probably TRAIN this model on a down-stream task to be able to use it for predictions and inference.\n",
      "/home/mwise/.local/lib/python3.10/site-packages/transformers/optimization.py:521: FutureWarning: This implementation of AdamW is deprecated and will be removed in a future version. Use the PyTorch implementation torch.optim.AdamW instead, or set `no_deprecation_warning=True` to disable this warning\n",
      "  warnings.warn(\n"
     ]
    },
    {
     "name": "stdout",
     "output_type": "stream",
     "text": [
      "Device: cuda\n",
      "Evaluation Accuracy: 0.9980\n"
     ]
    }
   ],
   "source": [
    "import json\n",
    "import torch\n",
    "import random \n",
    "from torch.nn.utils.rnn import pad_sequence\n",
    "from transformers import BertTokenizer, BertForTokenClassification, AdamW\n",
    "\n",
    "# Load the labeled dataset\n",
    "with open(\"human_annotated_dataset.json\", \"r\") as f:\n",
    "    labeled_data = json.load(f)\n",
    "\n",
    "# Prepare the data for training\n",
    "tokenizer = BertTokenizer.from_pretrained(\"bert-base-uncased\")\n",
    "labels = [\"none\", \"hedge\", \"authority\"]\n",
    "label_map = {label: i for i, label in enumerate(labels)}\n",
    "\n",
    "# Split the dataset into train and eval subsets\n",
    "random.shuffle(labeled_data)\n",
    "train_size = int(0.7 * len(labeled_data))\n",
    "train_data = labeled_data[:train_size]\n",
    "eval_data = labeled_data[train_size:]\n",
    "\n",
    "max_length = 512  # Set the maximum sequence length to 512\n",
    "\n",
    "# For the training dataset\n",
    "train_dataset = []\n",
    "for example in train_data:\n",
    "    statement = example[\"statement\"]\n",
    "    encoding = tokenizer.encode_plus(\n",
    "        statement,\n",
    "        max_length=max_length,\n",
    "        padding=\"max_length\",\n",
    "        truncation=True,\n",
    "        return_tensors=\"pt\",\n",
    "    )\n",
    "    input_ids = encoding[\"input_ids\"].squeeze()\n",
    "    attention_mask = encoding[\"attention_mask\"].squeeze()\n",
    "\n",
    "    label_ids = [label_map[\"none\"]] * max_length  # Initialize label_ids with \"none\"\n",
    "    for term, details in example[\"matched_terms\"].items():\n",
    "        label = details['correct']  # Access the \"correct\" key for the label\n",
    "        if label != \"none\":\n",
    "            term_tokens = tokenizer.tokenize(term)\n",
    "            term_indices = [i for i, token_id in enumerate(input_ids) if tokenizer.decode([token_id]).strip().lower() in term_tokens]\n",
    "            for index in term_indices:\n",
    "                label_ids[index] = label_map[label]\n",
    "\n",
    "    train_dataset.append({\n",
    "        \"input_ids\": input_ids,\n",
    "        \"attention_mask\": attention_mask,\n",
    "        \"labels\": torch.tensor(label_ids),\n",
    "    })\n",
    "\n",
    "# For the evaluation dataset\n",
    "eval_dataset = []\n",
    "for example in eval_data:\n",
    "    statement = example[\"statement\"]\n",
    "    encoding = tokenizer.encode_plus(\n",
    "        statement,\n",
    "        max_length=max_length,\n",
    "        padding=\"max_length\",\n",
    "        truncation=True,\n",
    "        return_tensors=\"pt\",\n",
    "    )\n",
    "    input_ids = encoding[\"input_ids\"].squeeze()\n",
    "    attention_mask = encoding[\"attention_mask\"].squeeze()\n",
    "\n",
    "    label_ids = [label_map[\"none\"]] * max_length  # Initialize label_ids with \"none\"\n",
    "    for term, details in example[\"matched_terms\"].items():\n",
    "        label = details['correct']  # Access the \"correct\" key for the label\n",
    "        if label != \"none\":\n",
    "            term_tokens = tokenizer.tokenize(term)\n",
    "            term_indices = [i for i, token_id in enumerate(input_ids) if tokenizer.decode([token_id]).strip().lower() in term_tokens]\n",
    "            for index in term_indices:\n",
    "                label_ids[index] = label_map[label]\n",
    "\n",
    "    eval_dataset.append({\n",
    "        \"input_ids\": input_ids,\n",
    "        \"attention_mask\": attention_mask,\n",
    "        \"labels\": torch.tensor(label_ids),\n",
    "    })\n",
    "\n",
    "\n",
    "# Set up the model and optimizer\n",
    "model = BertForTokenClassification.from_pretrained(\"bert-base-uncased\", num_labels=len(labels))\n",
    "optimizer = AdamW(model.parameters(), lr=2e-5)\n",
    "\n",
    "# Fine-tune the model\n",
    "device = torch.device(\"cuda\" if torch.cuda.is_available() else \"cpu\")\n",
    "print(\"Device:\", device)\n",
    "model.to(device)\n",
    "\n",
    "batch_size = 8\n",
    "epochs = 3\n",
    "\n",
    "for epoch in range(epochs):\n",
    "    for i in range(0, len(train_dataset), batch_size):\n",
    "        batch = train_dataset[i:i+batch_size]\n",
    "        \n",
    "        input_ids = torch.stack([example[\"input_ids\"] for example in batch]).to(device)\n",
    "        attention_mask = torch.stack([example[\"attention_mask\"] for example in batch]).to(device)\n",
    "        labels = torch.stack([example[\"labels\"] for example in batch]).to(device)\n",
    "\n",
    "        model.zero_grad()\n",
    "        outputs = model(input_ids, attention_mask=attention_mask, labels=labels)\n",
    "        loss = outputs.loss\n",
    "        loss.backward()\n",
    "        optimizer.step()\n",
    "\n",
    "# Save the fine-tuned model\n",
    "model.save_pretrained(\"pragmatic_markers_model\")"
   ]
  },
  {
   "cell_type": "code",
   "execution_count": 10,
   "id": "0d862471",
   "metadata": {},
   "outputs": [
    {
     "name": "stdout",
     "output_type": "stream",
     "text": [
      "none - Precision: 0.9983, Recall: 0.9997, F1: 0.9990\n",
      "hedge - Precision: 0.7959, Recall: 0.4615, F1: 0.5843\n",
      "authority - Precision: 0.0000, Recall: 0.0000, F1: 0.0000\n",
      "\n",
      "Macro-Averaged Precision: 0.5981\n",
      "Macro-Averaged Recall: 0.4871\n",
      "Macro-Averaged F1 Score: 0.5278\n",
      "Overall Accuracy: 0.9980\n"
     ]
    }
   ],
   "source": [
    "from sklearn.metrics import precision_recall_fscore_support, accuracy_score, confusion_matrix, ConfusionMatrixDisplay\n",
    "import matplotlib.pyplot as plt\n",
    "\n",
    "\n",
    "# Evaluate the model\n",
    "model.eval()\n",
    "predictions = []\n",
    "true_labels = []\n",
    "\n",
    "with torch.no_grad():\n",
    "    for example in eval_dataset:\n",
    "        input_ids = example[\"input_ids\"].unsqueeze(0).to(device)\n",
    "        attention_mask = example[\"attention_mask\"].unsqueeze(0).to(device)\n",
    "        labels = example[\"labels\"].unsqueeze(0).to(device)\n",
    "\n",
    "        outputs = model(input_ids, attention_mask=attention_mask, labels=labels)\n",
    "        logits = outputs.logits.argmax(dim=-1).squeeze().tolist()\n",
    "        label_ids = labels.squeeze().tolist()\n",
    "\n",
    "        # Append batch predictions and true labels, filtering out padding (-100)\n",
    "        predictions.extend([p for p, l in zip(logits, label_ids) if l != -100])\n",
    "        true_labels.extend([l for l in label_ids if l != -100])\n",
    "\n",
    "# Calculate overall accuracy\n",
    "accuracy = accuracy_score(true_labels, predictions)\n",
    "\n",
    "# Determine the unique labels in true labels to correctly calculate metrics\n",
    "unique_labels = sorted(set(true_labels))\n",
    "\n",
    "# Calculate precision, recall, and F1-score for each class and macro averages\n",
    "precision, recall, f1, _ = precision_recall_fscore_support(true_labels, predictions, labels=unique_labels, average=None, zero_division=0)\n",
    "macro_precision, macro_recall, macro_f1, _ = precision_recall_fscore_support(true_labels, predictions, average='macro', zero_division=0)\n",
    "\n",
    "# Print metrics for each category, using unique_labels to match indices\n",
    "for i, label_id in enumerate(unique_labels):\n",
    "    reversed_label_map = {v: k for k, v in label_map.items()}\n",
    "    label_name = reversed_label_map[label_id]\n",
    "    print(f\"{label_name} - Precision: {precision[i]:.4f}, Recall: {recall[i]:.4f}, F1: {f1[i]:.4f}\")\n",
    "\n",
    "# Print macro-averaged metrics and overall accuracy\n",
    "print(f\"\\nMacro-Averaged Precision: {macro_precision:.4f}\")\n",
    "print(f\"Macro-Averaged Recall: {macro_recall:.4f}\")\n",
    "print(f\"Macro-Averaged F1 Score: {macro_f1:.4f}\")\n",
    "print(f\"Overall Accuracy: {accuracy:.4f}\")"
   ]
  },
  {
   "cell_type": "markdown",
   "id": "c03b656a",
   "metadata": {},
   "source": [
    "### Confusion Matrix"
   ]
  },
  {
   "cell_type": "code",
   "execution_count": 13,
   "id": "0c3067dc",
   "metadata": {},
   "outputs": [
    {
     "data": {
      "image/png": "[encoded data removed]",
      "text/plain": [
       "<Figure size 1000x1000 with 2 Axes>"
      ]
     },
     "metadata": {},
     "output_type": "display_data"
    }
   ],
   "source": [
    "from sklearn.metrics import precision_recall_fscore_support, accuracy_score, confusion_matrix, ConfusionMatrixDisplay\n",
    "import matplotlib.pyplot as plt\n",
    "\n",
    "# Compute the confusion matrix\n",
    "cm = confusion_matrix(true_labels, predictions, labels=unique_labels)\n",
    "display_labels = [reversed_label_map[label] for label in unique_labels]\n",
    "\n",
    "# Display the confusion matrix\n",
    "fig, ax = plt.subplots(figsize=(10, 10))\n",
    "disp = ConfusionMatrixDisplay(confusion_matrix=cm, display_labels=display_labels)\n",
    "disp.plot(values_format='d', cmap='Blues', ax=ax)\n",
    "plt.title('Confusion Matrix')\n",
    "plt.show()"
   ]
  }
 ],
 "metadata": {
  "kernelspec": {
   "display_name": "Python 3 (ipykernel)",
   "language": "python",
   "name": "python3"
  },
  "language_info": {
   "codemirror_mode": {
    "name": "ipython",
    "version": 3
   },
   "file_extension": ".py",
   "mimetype": "text/x-python",
   "name": "python",
   "nbconvert_exporter": "python",
   "pygments_lexer": "ipython3",
   "version": "3.10.14"
  }
 },
 "nbformat": 4,
 "nbformat_minor": 5
}
