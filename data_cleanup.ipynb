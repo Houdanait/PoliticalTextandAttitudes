{
 "cells": [
  {
   "cell_type": "code",
   "execution_count": 2,
   "metadata": {},
   "outputs": [],
   "source": [
    "from util import sort_json_file, read_json_keys, extract_and_save_json_values, invert_json_values_and_keys\n",
    "\n",
    "# Path to the JSON file\n",
    "input_filepath = 'data/prms.json'\n",
    "values_output_filepath = 'data/values.json'\n",
    "\n",
    "# Call the function to sort the JSON data\n",
    "sort_json_file(input_filepath)\n",
    "\n",
    "# Call the function to extract and save JSON values\n",
    "extract_and_save_json_values(input_filepath, values_output_filepath)\n",
    "\n",
    "# Define the file paths\n",
    "input_filepath = 'data/prms.json'\n",
    "output_filepath = 'data/inverted_values.json'\n",
    "\n",
    "# Call the function to invert JSON values and keys\n",
    "invert_json_values_and_keys(input_filepath, output_filepath)\n",
    "\n"
   ]
  },
  {
   "cell_type": "code",
   "execution_count": 1,
   "metadata": {},
   "outputs": [],
   "source": [
    "from util import count_prms_in_utt, print_sorted_json\n",
    "# Filepaths for the JSON files\n",
    "prms_filepath = 'data/prms.json'\n",
    "large_json_filepath = 'data/news_dialogue_sample.json'\n",
    "output_filepath = 'data/prms_sample_count.json'\n",
    "\n",
    "# Call the function\n",
    "count_prms_in_utt(prms_filepath, large_json_filepath, output_filepath)\n",
    "# large_json_filepath = 'data/news_dialogue.json'\n",
    "# output_filepath = 'data/prms_full_count.json'\n",
    "# count_prms_in_utt(prms_filepath, large_json_filepath, output_filepath)"
   ]
  },
  {
   "cell_type": "code",
   "execution_count": 5,
   "metadata": {},
   "outputs": [],
   "source": [
    "import json\n",
    "\n",
    "# Load the JSON data from a file\n",
    "file_path = 'data/news_dialogue_sample.json'\n",
    "with open(file_path, 'r') as file:\n",
    "    pre_data = json.load(file)\n",
    "\n",
    "specific_id = \"CNN-299342\"\n",
    "data = [next((item for item in pre_data if item['id'] == specific_id), None)]\n",
    "\n",
    "\n",
    "# New list to hold the processed transcripts\n",
    "processed_transcripts = []\n",
    "\n",
    "# Function to process each transcript\n",
    "def process_transcript(transcript):\n",
    "    full_names = {}\n",
    "    processed_entries = []\n",
    "    \n",
    "    # Process speaker names to find and replace abbreviations\n",
    "    for i, speaker in enumerate(transcript['speaker']):\n",
    "        if ',' in speaker:\n",
    "            full_name = speaker.split(',')[0]\n",
    "            last_name = full_name.split()[-1]\n",
    "            full_names[last_name] = full_name\n",
    "            speaker = full_name\n",
    "        else:\n",
    "            speaker = full_names.get(speaker, speaker)\n",
    "        \n",
    "        # Create a new dictionary for each transcript row\n",
    "        entry = {\n",
    "            'transcript_id': transcript['id'],\n",
    "            'program': transcript['program'],\n",
    "            'date': transcript['date'],\n",
    "            'url': transcript['url'],\n",
    "            'summary': transcript['summary'],\n",
    "            'transcript_row_num': i,\n",
    "            'speaker': speaker,\n",
    "            'utt': transcript['utt'][i]\n",
    "        }\n",
    "        processed_entries.append(entry)\n",
    "    \n",
    "    return processed_entries\n",
    "\n",
    "# Process each transcript in the dataset\n",
    "for transcript in data:\n",
    "    processed = process_transcript(transcript)\n",
    "    processed_transcripts.extend(processed)\n",
    "\n",
    "# Optionally, write the processed data to a new JSON file\n",
    "output_path = 'data/processed_news_dialogue_sample.json'\n",
    "with open(output_path, 'w') as outfile:\n",
    "    json.dump(processed_transcripts, outfile, indent=4)\n",
    "\n",
    "# Print a sample for verification\n",
    "# print(json.dumps(processed_transcripts, indent=4))  # Print first two entries for quick check\n"
   ]
  },
  {
   "cell_type": "code",
   "execution_count": 4,
   "metadata": {},
   "outputs": [],
   "source": [
    "import json\n",
    "\n",
    "file_path = 'data/news_dialogue_sample.json'\n",
    "\n",
    "with open(file_path, 'r') as file:\n",
    "    data = json.load(file)  # Load the JSON from file\n",
    "\n",
    "specific_id = \"CNN-299342\"\n",
    "convo = next((item for item in data if item['id'] == specific_id), None)\n",
    "\n",
    "# Dictionary to store full names mapped from last names\n",
    "full_names = {}\n",
    "\n",
    "# Process each speaker in the conversation\n",
    "for entry in convo['speaker']:\n",
    "    # Check if the entry contains a comma, indicating a full name with a title\n",
    "    if ',' in entry:\n",
    "        full_name = entry.split(',')[0]  # Extract the full name part before the comma\n",
    "        last_name = full_name.split()[-1]  # Extract the last name\n",
    "        full_names[last_name] = full_name  # Map the last name to the full name\n",
    "        # print(full_name)  # Print the full name\n",
    "    else:\n",
    "        continue\n",
    "        # If no comma, it's a last name; replace it with the full name if available\n",
    "        # print(full_names.get(entry, entry))  # Print the full name if available, else print as is\n"
   ]
  },
  {
   "cell_type": "code",
   "execution_count": 3,
   "metadata": {},
   "outputs": [],
   "source": [
    "import json\n",
    "\n",
    "file_path = 'data/news_dialogue_sample.json'\n",
    "\n",
    "with open(file_path, 'r') as file:\n",
    "    data = json.load(file)  # Load the JSON from file\n",
    "\n",
    "specific_id = \"CNN-299342\"\n",
    "convo = next((item for item in data if item['id'] == specific_id), None)\n",
    "\n",
    "# for speaker in convo['speaker']:\n",
    "#     print(speaker)"
   ]
  },
  {
   "cell_type": "code",
   "execution_count": 2,
   "metadata": {},
   "outputs": [],
   "source": [
    "import json\n",
    "\n",
    "file_path = 'data/news_dialogue_sample.json'\n",
    "\n",
    "with open(file_path, 'r') as file:\n",
    "    data = json.load(file)  # Load the JSON from file\n",
    "\n",
    "# specific_id = \"CNN-407366\"\n",
    "# specific_id = \"CNN-366676\"\n",
    "# specific_id = \"CNN-322423\"\n",
    "specific_id = \"CNN-299342\"\n",
    "convo = next((item for item in data if item['id'] == specific_id), None)\n",
    "\n",
    "# for speaker, utterance in zip(convo['speaker'], convo['utt']):\n",
    "#     print(speaker, \":\", utterance)\n"
   ]
  },
  {
   "cell_type": "code",
   "execution_count": null,
   "metadata": {},
   "outputs": [],
   "source": [
    "import json\n",
    "\n",
    "file_path = 'data/news_dialogue_sample.json'\n",
    "\n",
    "with open(file_path, 'r') as file:\n",
    "    data = json.load(file)  # Load the JSON from file\n",
    "\n",
    "specific_id = \"CNN-299342\"\n",
    "convo = next((item for item in data if item['id'] == specific_id), None)\n",
    "\n",
    "# Dictionary to store full names mapped from last names\n",
    "full_names = {}\n",
    "\n",
    "# Process each speaker in the conversation\n",
    "for entry in convo['speaker']:\n",
    "    # Check if the entry contains a comma, indicating a full name with a title\n",
    "    if ',' in entry:\n",
    "        full_name = entry.split(',')[0]  # Extract the full name part before the comma\n",
    "        last_name = full_name.split()[-1]  # Extract the last name\n",
    "        full_names[last_name] = full_name  # Map the last name to the full name\n",
    "        print(full_name)  # Print the full name\n",
    "    else:\n",
    "        # If no comma, it's a last name; replace it with the full name if available\n",
    "        print(full_names.get(entry, entry))  # Print the full name if available, else print as is\n"
   ]
  },
  {
   "cell_type": "code",
   "execution_count": 1,
   "metadata": {},
   "outputs": [
    {
     "ename": "KeyError",
     "evalue": "'user_id'",
     "output_type": "error",
     "traceback": [
      "\u001b[0;31m---------------------------------------------------------------------------\u001b[0m",
      "\u001b[0;31mKeyError\u001b[0m                                  Traceback (most recent call last)",
      "File \u001b[0;32m~/.local/lib/python3.10/site-packages/pandas/core/indexes/base.py:3802\u001b[0m, in \u001b[0;36mIndex.get_loc\u001b[0;34m(self, key, method, tolerance)\u001b[0m\n\u001b[1;32m   3801\u001b[0m \u001b[38;5;28;01mtry\u001b[39;00m:\n\u001b[0;32m-> 3802\u001b[0m     \u001b[38;5;28;01mreturn\u001b[39;00m \u001b[38;5;28;43mself\u001b[39;49m\u001b[38;5;241;43m.\u001b[39;49m\u001b[43m_engine\u001b[49m\u001b[38;5;241;43m.\u001b[39;49m\u001b[43mget_loc\u001b[49m\u001b[43m(\u001b[49m\u001b[43mcasted_key\u001b[49m\u001b[43m)\u001b[49m\n\u001b[1;32m   3803\u001b[0m \u001b[38;5;28;01mexcept\u001b[39;00m \u001b[38;5;167;01mKeyError\u001b[39;00m \u001b[38;5;28;01mas\u001b[39;00m err:\n",
      "File \u001b[0;32m~/.local/lib/python3.10/site-packages/pandas/_libs/index.pyx:138\u001b[0m, in \u001b[0;36mpandas._libs.index.IndexEngine.get_loc\u001b[0;34m()\u001b[0m\n",
      "File \u001b[0;32m~/.local/lib/python3.10/site-packages/pandas/_libs/index.pyx:165\u001b[0m, in \u001b[0;36mpandas._libs.index.IndexEngine.get_loc\u001b[0;34m()\u001b[0m\n",
      "File \u001b[0;32mpandas/_libs/hashtable_class_helper.pxi:5745\u001b[0m, in \u001b[0;36mpandas._libs.hashtable.PyObjectHashTable.get_item\u001b[0;34m()\u001b[0m\n",
      "File \u001b[0;32mpandas/_libs/hashtable_class_helper.pxi:5753\u001b[0m, in \u001b[0;36mpandas._libs.hashtable.PyObjectHashTable.get_item\u001b[0;34m()\u001b[0m\n",
      "\u001b[0;31mKeyError\u001b[0m: 'user_id'",
      "\nThe above exception was the direct cause of the following exception:\n",
      "\u001b[0;31mKeyError\u001b[0m                                  Traceback (most recent call last)",
      "Cell \u001b[0;32mIn[1], line 8\u001b[0m\n\u001b[1;32m      6\u001b[0m \u001b[38;5;66;03m# Calculate aggregate metrics\u001b[39;00m\n\u001b[1;32m      7\u001b[0m total_rows \u001b[38;5;241m=\u001b[39m \u001b[38;5;28mlen\u001b[39m(df)\n\u001b[0;32m----> 8\u001b[0m unique_users \u001b[38;5;241m=\u001b[39m \u001b[43mdf\u001b[49m\u001b[43m[\u001b[49m\u001b[38;5;124;43m'\u001b[39;49m\u001b[38;5;124;43muser_id\u001b[39;49m\u001b[38;5;124;43m'\u001b[39;49m\u001b[43m]\u001b[49m\u001b[38;5;241m.\u001b[39mnunique()\n\u001b[1;32m      9\u001b[0m unique_articles \u001b[38;5;241m=\u001b[39m df[\u001b[38;5;124m'\u001b[39m\u001b[38;5;124marticle_id\u001b[39m\u001b[38;5;124m'\u001b[39m]\u001b[38;5;241m.\u001b[39mnunique()\n\u001b[1;32m     10\u001b[0m average_responses_per_user \u001b[38;5;241m=\u001b[39m df\u001b[38;5;241m.\u001b[39mgroupby(\u001b[38;5;124m'\u001b[39m\u001b[38;5;124muser_id\u001b[39m\u001b[38;5;124m'\u001b[39m)[\u001b[38;5;124m'\u001b[39m\u001b[38;5;124mresponse\u001b[39m\u001b[38;5;124m'\u001b[39m]\u001b[38;5;241m.\u001b[39mcount()\u001b[38;5;241m.\u001b[39mmean()\n",
      "File \u001b[0;32m~/.local/lib/python3.10/site-packages/pandas/core/frame.py:3807\u001b[0m, in \u001b[0;36mDataFrame.__getitem__\u001b[0;34m(self, key)\u001b[0m\n\u001b[1;32m   3805\u001b[0m \u001b[38;5;28;01mif\u001b[39;00m \u001b[38;5;28mself\u001b[39m\u001b[38;5;241m.\u001b[39mcolumns\u001b[38;5;241m.\u001b[39mnlevels \u001b[38;5;241m>\u001b[39m \u001b[38;5;241m1\u001b[39m:\n\u001b[1;32m   3806\u001b[0m     \u001b[38;5;28;01mreturn\u001b[39;00m \u001b[38;5;28mself\u001b[39m\u001b[38;5;241m.\u001b[39m_getitem_multilevel(key)\n\u001b[0;32m-> 3807\u001b[0m indexer \u001b[38;5;241m=\u001b[39m \u001b[38;5;28;43mself\u001b[39;49m\u001b[38;5;241;43m.\u001b[39;49m\u001b[43mcolumns\u001b[49m\u001b[38;5;241;43m.\u001b[39;49m\u001b[43mget_loc\u001b[49m\u001b[43m(\u001b[49m\u001b[43mkey\u001b[49m\u001b[43m)\u001b[49m\n\u001b[1;32m   3808\u001b[0m \u001b[38;5;28;01mif\u001b[39;00m is_integer(indexer):\n\u001b[1;32m   3809\u001b[0m     indexer \u001b[38;5;241m=\u001b[39m [indexer]\n",
      "File \u001b[0;32m~/.local/lib/python3.10/site-packages/pandas/core/indexes/base.py:3804\u001b[0m, in \u001b[0;36mIndex.get_loc\u001b[0;34m(self, key, method, tolerance)\u001b[0m\n\u001b[1;32m   3802\u001b[0m     \u001b[38;5;28;01mreturn\u001b[39;00m \u001b[38;5;28mself\u001b[39m\u001b[38;5;241m.\u001b[39m_engine\u001b[38;5;241m.\u001b[39mget_loc(casted_key)\n\u001b[1;32m   3803\u001b[0m \u001b[38;5;28;01mexcept\u001b[39;00m \u001b[38;5;167;01mKeyError\u001b[39;00m \u001b[38;5;28;01mas\u001b[39;00m err:\n\u001b[0;32m-> 3804\u001b[0m     \u001b[38;5;28;01mraise\u001b[39;00m \u001b[38;5;167;01mKeyError\u001b[39;00m(key) \u001b[38;5;28;01mfrom\u001b[39;00m \u001b[38;5;21;01merr\u001b[39;00m\n\u001b[1;32m   3805\u001b[0m \u001b[38;5;28;01mexcept\u001b[39;00m \u001b[38;5;167;01mTypeError\u001b[39;00m:\n\u001b[1;32m   3806\u001b[0m     \u001b[38;5;66;03m# If we have a listlike key, _check_indexing_error will raise\u001b[39;00m\n\u001b[1;32m   3807\u001b[0m     \u001b[38;5;66;03m#  InvalidIndexError. Otherwise we fall through and re-raise\u001b[39;00m\n\u001b[1;32m   3808\u001b[0m     \u001b[38;5;66;03m#  the TypeError.\u001b[39;00m\n\u001b[1;32m   3809\u001b[0m     \u001b[38;5;28mself\u001b[39m\u001b[38;5;241m.\u001b[39m_check_indexing_error(key)\n",
      "\u001b[0;31mKeyError\u001b[0m: 'user_id'"
     ]
    }
   ],
   "source": [
    "import pandas as pd\n",
    "\n",
    "# Load the JSON file into a pandas DataFrame\n",
    "df = pd.read_json('data/news_dialogue_sample.json')\n",
    "\n",
    "# Calculate aggregate metrics\n",
    "total_rows = len(df)\n",
    "unique_users = df['user_id'].nunique()\n",
    "unique_articles = df['article_id'].nunique()\n",
    "average_responses_per_user = df.groupby('user_id')['response'].count().mean()\n",
    "\n",
    "# Print the aggregate metrics\n",
    "print(f\"Total rows: {total_rows}\")\n",
    "print(f\"Unique users: {unique_users}\")\n",
    "print(f\"Unique articles: {unique_articles}\")\n",
    "print(f\"Average responses per user: {average_responses_per_user:.2f}\")"
   ]
  },
  {
   "cell_type": "code",
   "execution_count": 1,
   "metadata": {},
   "outputs": [
    {
     "ename": "NameError",
     "evalue": "name 'df' is not defined",
     "output_type": "error",
     "traceback": [
      "\u001b[0;31m---------------------------------------------------------------------------\u001b[0m",
      "\u001b[0;31mNameError\u001b[0m                                 Traceback (most recent call last)",
      "Cell \u001b[0;32mIn[1], line 2\u001b[0m\n\u001b[1;32m      1\u001b[0m specific_id \u001b[38;5;241m=\u001b[39m \u001b[38;5;124m\"\u001b[39m\u001b[38;5;124mCNN-407366\u001b[39m\u001b[38;5;124m\"\u001b[39m\n\u001b[0;32m----> 2\u001b[0m convo \u001b[38;5;241m=\u001b[39m \u001b[43mdf\u001b[49m\u001b[38;5;241m.\u001b[39mloc[df[\u001b[38;5;124m'\u001b[39m\u001b[38;5;124mid\u001b[39m\u001b[38;5;124m'\u001b[39m] \u001b[38;5;241m==\u001b[39m specific_id]\n\u001b[1;32m      3\u001b[0m \u001b[38;5;66;03m# print(specific_row['utt'])\u001b[39;00m\n\u001b[1;32m      5\u001b[0m \u001b[38;5;28mprint\u001b[39m(\u001b[38;5;124m\"\u001b[39m\u001b[38;5;124mPrinting Dialogue\u001b[39m\u001b[38;5;124m\"\u001b[39m)\n",
      "\u001b[0;31mNameError\u001b[0m: name 'df' is not defined"
     ]
    }
   ],
   "source": [
    "specific_id = \"CNN-407366\"\n",
    "convo = df.loc[df['id'] == specific_id]\n",
    "# print(specific_row['utt'])\n",
    "\n",
    "print(\"Printing Dialogue\")\n",
    "# for speaker, utterance in zip(specific_row['speaker'], specific_row['utt']):\n",
    "#     print(speaker, \":\", utterance)\n",
    "speakers = convo['speaker']\n",
    "# for i, speaker in enumerate(speakers):\n",
    "#     print(i, speaker)"
   ]
  },
  {
   "cell_type": "code",
   "execution_count": 19,
   "metadata": {},
   "outputs": [
    {
     "ename": "KeyError",
     "evalue": "0",
     "output_type": "error",
     "traceback": [
      "\u001b[0;31m---------------------------------------------------------------------------\u001b[0m",
      "\u001b[0;31mKeyError\u001b[0m                                  Traceback (most recent call last)",
      "File \u001b[0;32m~/.local/lib/python3.10/site-packages/pandas/core/indexes/base.py:3802\u001b[0m, in \u001b[0;36mIndex.get_loc\u001b[0;34m(self, key, method, tolerance)\u001b[0m\n\u001b[1;32m   3801\u001b[0m \u001b[38;5;28;01mtry\u001b[39;00m:\n\u001b[0;32m-> 3802\u001b[0m     \u001b[38;5;28;01mreturn\u001b[39;00m \u001b[38;5;28;43mself\u001b[39;49m\u001b[38;5;241;43m.\u001b[39;49m\u001b[43m_engine\u001b[49m\u001b[38;5;241;43m.\u001b[39;49m\u001b[43mget_loc\u001b[49m\u001b[43m(\u001b[49m\u001b[43mcasted_key\u001b[49m\u001b[43m)\u001b[49m\n\u001b[1;32m   3803\u001b[0m \u001b[38;5;28;01mexcept\u001b[39;00m \u001b[38;5;167;01mKeyError\u001b[39;00m \u001b[38;5;28;01mas\u001b[39;00m err:\n",
      "File \u001b[0;32m~/.local/lib/python3.10/site-packages/pandas/_libs/index.pyx:138\u001b[0m, in \u001b[0;36mpandas._libs.index.IndexEngine.get_loc\u001b[0;34m()\u001b[0m\n",
      "File \u001b[0;32m~/.local/lib/python3.10/site-packages/pandas/_libs/index.pyx:165\u001b[0m, in \u001b[0;36mpandas._libs.index.IndexEngine.get_loc\u001b[0;34m()\u001b[0m\n",
      "File \u001b[0;32mpandas/_libs/hashtable_class_helper.pxi:2263\u001b[0m, in \u001b[0;36mpandas._libs.hashtable.Int64HashTable.get_item\u001b[0;34m()\u001b[0m\n",
      "File \u001b[0;32mpandas/_libs/hashtable_class_helper.pxi:2273\u001b[0m, in \u001b[0;36mpandas._libs.hashtable.Int64HashTable.get_item\u001b[0;34m()\u001b[0m\n",
      "\u001b[0;31mKeyError\u001b[0m: 0",
      "\nThe above exception was the direct cause of the following exception:\n",
      "\u001b[0;31mKeyError\u001b[0m                                  Traceback (most recent call last)",
      "Cell \u001b[0;32mIn[19], line 1\u001b[0m\n\u001b[0;32m----> 1\u001b[0m speakers \u001b[38;5;241m=\u001b[39m \u001b[43mspecific_row\u001b[49m\u001b[43m[\u001b[49m\u001b[38;5;124;43m'\u001b[39;49m\u001b[38;5;124;43mspeaker\u001b[39;49m\u001b[38;5;124;43m'\u001b[39;49m\u001b[43m]\u001b[49m\u001b[43m[\u001b[49m\u001b[38;5;241;43m0\u001b[39;49m\u001b[43m]\u001b[49m  \u001b[38;5;66;03m# Access the first list if speakers are wrapped in an outer list\u001b[39;00m\n\u001b[1;32m      2\u001b[0m \u001b[38;5;28;01mfor\u001b[39;00m i, speaker \u001b[38;5;129;01min\u001b[39;00m \u001b[38;5;28menumerate\u001b[39m(speakers):\n\u001b[1;32m      3\u001b[0m     \u001b[38;5;28mprint\u001b[39m(i, speaker)\n",
      "File \u001b[0;32m~/.local/lib/python3.10/site-packages/pandas/core/series.py:981\u001b[0m, in \u001b[0;36mSeries.__getitem__\u001b[0;34m(self, key)\u001b[0m\n\u001b[1;32m    978\u001b[0m     \u001b[38;5;28;01mreturn\u001b[39;00m \u001b[38;5;28mself\u001b[39m\u001b[38;5;241m.\u001b[39m_values[key]\n\u001b[1;32m    980\u001b[0m \u001b[38;5;28;01melif\u001b[39;00m key_is_scalar:\n\u001b[0;32m--> 981\u001b[0m     \u001b[38;5;28;01mreturn\u001b[39;00m \u001b[38;5;28;43mself\u001b[39;49m\u001b[38;5;241;43m.\u001b[39;49m\u001b[43m_get_value\u001b[49m\u001b[43m(\u001b[49m\u001b[43mkey\u001b[49m\u001b[43m)\u001b[49m\n\u001b[1;32m    983\u001b[0m \u001b[38;5;28;01mif\u001b[39;00m is_hashable(key):\n\u001b[1;32m    984\u001b[0m     \u001b[38;5;66;03m# Otherwise index.get_value will raise InvalidIndexError\u001b[39;00m\n\u001b[1;32m    985\u001b[0m     \u001b[38;5;28;01mtry\u001b[39;00m:\n\u001b[1;32m    986\u001b[0m         \u001b[38;5;66;03m# For labels that don't resolve as scalars like tuples and frozensets\u001b[39;00m\n",
      "File \u001b[0;32m~/.local/lib/python3.10/site-packages/pandas/core/series.py:1089\u001b[0m, in \u001b[0;36mSeries._get_value\u001b[0;34m(self, label, takeable)\u001b[0m\n\u001b[1;32m   1086\u001b[0m     \u001b[38;5;28;01mreturn\u001b[39;00m \u001b[38;5;28mself\u001b[39m\u001b[38;5;241m.\u001b[39m_values[label]\n\u001b[1;32m   1088\u001b[0m \u001b[38;5;66;03m# Similar to Index.get_value, but we do not fall back to positional\u001b[39;00m\n\u001b[0;32m-> 1089\u001b[0m loc \u001b[38;5;241m=\u001b[39m \u001b[38;5;28;43mself\u001b[39;49m\u001b[38;5;241;43m.\u001b[39;49m\u001b[43mindex\u001b[49m\u001b[38;5;241;43m.\u001b[39;49m\u001b[43mget_loc\u001b[49m\u001b[43m(\u001b[49m\u001b[43mlabel\u001b[49m\u001b[43m)\u001b[49m\n\u001b[1;32m   1090\u001b[0m \u001b[38;5;28;01mreturn\u001b[39;00m \u001b[38;5;28mself\u001b[39m\u001b[38;5;241m.\u001b[39mindex\u001b[38;5;241m.\u001b[39m_get_values_for_loc(\u001b[38;5;28mself\u001b[39m, loc, label)\n",
      "File \u001b[0;32m~/.local/lib/python3.10/site-packages/pandas/core/indexes/base.py:3804\u001b[0m, in \u001b[0;36mIndex.get_loc\u001b[0;34m(self, key, method, tolerance)\u001b[0m\n\u001b[1;32m   3802\u001b[0m     \u001b[38;5;28;01mreturn\u001b[39;00m \u001b[38;5;28mself\u001b[39m\u001b[38;5;241m.\u001b[39m_engine\u001b[38;5;241m.\u001b[39mget_loc(casted_key)\n\u001b[1;32m   3803\u001b[0m \u001b[38;5;28;01mexcept\u001b[39;00m \u001b[38;5;167;01mKeyError\u001b[39;00m \u001b[38;5;28;01mas\u001b[39;00m err:\n\u001b[0;32m-> 3804\u001b[0m     \u001b[38;5;28;01mraise\u001b[39;00m \u001b[38;5;167;01mKeyError\u001b[39;00m(key) \u001b[38;5;28;01mfrom\u001b[39;00m \u001b[38;5;21;01merr\u001b[39;00m\n\u001b[1;32m   3805\u001b[0m \u001b[38;5;28;01mexcept\u001b[39;00m \u001b[38;5;167;01mTypeError\u001b[39;00m:\n\u001b[1;32m   3806\u001b[0m     \u001b[38;5;66;03m# If we have a listlike key, _check_indexing_error will raise\u001b[39;00m\n\u001b[1;32m   3807\u001b[0m     \u001b[38;5;66;03m#  InvalidIndexError. Otherwise we fall through and re-raise\u001b[39;00m\n\u001b[1;32m   3808\u001b[0m     \u001b[38;5;66;03m#  the TypeError.\u001b[39;00m\n\u001b[1;32m   3809\u001b[0m     \u001b[38;5;28mself\u001b[39m\u001b[38;5;241m.\u001b[39m_check_indexing_error(key)\n",
      "\u001b[0;31mKeyError\u001b[0m: 0"
     ]
    }
   ],
   "source": [
    "speakers = convo['speaker'][0]  # Access the first list if speakers are wrapped in an outer list\n",
    "for i, speaker in enumerate(speakers):\n",
    "    print(i, speaker)\n"
   ]
  },
  {
   "cell_type": "code",
   "execution_count": 3,
   "metadata": {},
   "outputs": [
    {
     "name": "stdout",
     "output_type": "stream",
     "text": [
      "                id       program                 date  \\\n",
      "count          200           200                  200   \n",
      "unique         200            62                  196   \n",
      "top     CNN-369804  CNN NEWSROOM  2010-04-09 00:00:00   \n",
      "freq             1            42                    2   \n",
      "first          NaN           NaN  2000-05-30 00:00:00   \n",
      "last           NaN           NaN  2020-10-06 00:00:00   \n",
      "\n",
      "                                                      url  \n",
      "count                                                 200  \n",
      "unique                                                200  \n",
      "top     http://transcripts.cnn.com/TRANSCRIPTS/1905/16...  \n",
      "freq                                                    1  \n",
      "first                                                 NaN  \n",
      "last                                                  NaN  \n"
     ]
    },
    {
     "name": "stderr",
     "output_type": "stream",
     "text": [
      "/tmp/ipykernel_319052/592906602.py:1: FutureWarning: Treating datetime data as categorical rather than numeric in `.describe` is deprecated and will be removed in a future version of pandas. Specify `datetime_is_numeric=True` to silence this warning and adopt the future behavior now.\n",
      "  summary_stats = df[['id', 'program', 'date', 'url']].describe()\n"
     ]
    }
   ],
   "source": [
    "summary_stats = df[['id', 'program', 'date', 'url']].describe()\n",
    "print(summary_stats)\n"
   ]
  }
 ],
 "metadata": {
  "kernelspec": {
   "display_name": "cs224n-gpu",
   "language": "python",
   "name": "python3"
  },
  "language_info": {
   "codemirror_mode": {
    "name": "ipython",
    "version": 3
   },
   "file_extension": ".py",
   "mimetype": "text/x-python",
   "name": "python",
   "nbconvert_exporter": "python",
   "pygments_lexer": "ipython3",
   "version": "3.10.14"
  }
 },
 "nbformat": 4,
 "nbformat_minor": 2
}
